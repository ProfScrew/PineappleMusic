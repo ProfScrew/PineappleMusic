{
 "cells": [
  {
   "cell_type": "markdown",
   "metadata": {},
   "source": [
    "# Basi di Dati Mod. 2 - SQLAlchemy ORM\n",
    "\n",
    "### Stefano Calzavara, Università Ca' Foscari Venezia"
   ]
  },
  {
   "cell_type": "markdown",
   "metadata": {},
   "source": [
    "Gli ORM forniscono uno strumento per definire un mapping fra:\n",
    "1. classi del linguaggio di programmazione (es. Python) e tabelle del DBMS sottostante\n",
    "2. istanze di tali classi (oggetti) e righe delle tabelle corrispondenti\n",
    "\n",
    "Il risultato è un sistema che sincronizza trasparentemente tutti i cambiamenti di stato fra gli oggetti e le righe ad essi associate. Tale approccio permette inoltre di esprimere query al database in termini di classi e delle relazioni esistenti fra di esse.\n",
    "\n",
    "![alt text](orm.jpg \"ORM architecture\")\n",
    "\n",
    "SQLAlchemy ORM è costruito sopra all'Expression Language ed offre un livello di astrazione ancora più elevato rispetto al DBMS sottostante. La maggior parte delle applicazioni può fare uso esclusivo delle funzionalità ORM, usando l'Expression Language solo dove è veramente necessario scendere a più basso livello."
   ]
  },
  {
   "cell_type": "markdown",
   "metadata": {},
   "source": [
    "### Dichiarazione di un mapping"
   ]
  },
  {
   "cell_type": "code",
   "execution_count": null,
   "metadata": {},
   "outputs": [],
   "source": [
    "import sqlalchemy\n",
    "from sqlalchemy import *\n",
    "from sqlalchemy.ext.declarative import declarative_base\n",
    "\n",
    "engine = create_engine('sqlite://', echo=True)\n",
    "\n",
    "Base = declarative_base()                      # tabella = classe che eredita da Base\n",
    "\n",
    "class User(Base):\n",
    "    __tablename__ = 'users'                   # obbligatorio\n",
    "\n",
    "    id = Column(Integer, primary_key=True)    # almeno un attributo deve fare parte della primary key\n",
    "    name = Column(String)\n",
    "    fullname = Column(String)\n",
    "    nickname = Column(String)\n",
    "    \n",
    "    # questo metodo è opzionale, serve solo per pretty printing\n",
    "    def __repr__(self):\n",
    "        return \"<User(name='%s', fullname='%s', nickname='%s')>\" % (self.name, self.fullname, self.nickname)"
   ]
  },
  {
   "cell_type": "markdown",
   "metadata": {},
   "source": [
    "### Creare uno schema"
   ]
  },
  {
   "cell_type": "code",
   "execution_count": null,
   "metadata": {},
   "outputs": [],
   "source": [
    "User.__table__"
   ]
  },
  {
   "cell_type": "code",
   "execution_count": null,
   "metadata": {},
   "outputs": [],
   "source": [
    "Base.metadata.create_all(engine)"
   ]
  },
  {
   "cell_type": "markdown",
   "metadata": {},
   "source": [
    "### Creare un'istanza di una classe mappata"
   ]
  },
  {
   "cell_type": "markdown",
   "metadata": {},
   "source": [
    "Un'istanza di una classe mappata rappresenta una riga della tabella corrispondente."
   ]
  },
  {
   "cell_type": "code",
   "execution_count": null,
   "metadata": {},
   "outputs": [],
   "source": [
    "ed_user = User(name='ed', fullname='Ed Jones', nickname='thunder')\n",
    "print(ed_user.name)\n",
    "print(ed_user.nickname)\n",
    "print(ed_user.id)"
   ]
  },
  {
   "cell_type": "markdown",
   "metadata": {},
   "source": [
    "Importante: Si noti che a questo punto non è ancora stato scritto niente nel database! Questo è confermato dal fatto che l'attributo `id` è ancora impostato a `None`. Abbiamo però preparato SQLAlchemy ORM affinché sia in grado di aggiornare il database correttamente all'interno di una **sessione**."
   ]
  },
  {
   "cell_type": "markdown",
   "metadata": {},
   "source": [
    "### Sessioni: creazione ed utilizzo"
   ]
  },
  {
   "cell_type": "markdown",
   "metadata": {},
   "source": [
    "Una sessione in SQLAlchemy ORM nasconde una serie di dettagli implementativi che tipicamente sono gestiti manualmente nell'Expression Language, in particolare la gestione delle connessioni e delle transazioni."
   ]
  },
  {
   "cell_type": "code",
   "execution_count": null,
   "metadata": {},
   "outputs": [],
   "source": [
    "from sqlalchemy.orm import sessionmaker\n",
    "Session = sessionmaker(bind=engine)       # factory pattern\n",
    "session = Session()"
   ]
  },
  {
   "cell_type": "code",
   "execution_count": null,
   "metadata": {},
   "outputs": [],
   "source": [
    "session.add(ed_user)    # pending instance: verrà salvata nel database quando veramente necessario"
   ]
  },
  {
   "cell_type": "code",
   "execution_count": null,
   "metadata": {},
   "outputs": [],
   "source": [
    "our_user = session.query(User).filter_by(name='ed').first()    # qui è necessario salvare la pending instance\n",
    "our_user"
   ]
  },
  {
   "cell_type": "code",
   "execution_count": null,
   "metadata": {},
   "outputs": [],
   "source": [
    "ed_user is our_user"
   ]
  },
  {
   "cell_type": "code",
   "execution_count": null,
   "metadata": {},
   "outputs": [],
   "source": [
    "print(ed_user.id)    # primary key creata in fase di scrittura al database"
   ]
  },
  {
   "cell_type": "code",
   "execution_count": null,
   "metadata": {},
   "outputs": [],
   "source": [
    "ed_user.nickname = 'eddie'\n",
    "\n",
    "session.add_all([User(name='wendy', fullname='Wendy Williams', nickname='windy'),\n",
    "                 User(name='mary', fullname='Mary Contrary', nickname='mary'),\n",
    "                 User(name='fred', fullname='Fred Flintstone', nickname='freddy')])"
   ]
  },
  {
   "cell_type": "code",
   "execution_count": null,
   "metadata": {},
   "outputs": [],
   "source": [
    "print(\"Dirty instances: \" + str(session.dirty))\n",
    "print(\"Pending instances: \" + str(session.new) + \"\\n\")\n",
    "session.commit()\n",
    "print(\"\\nDirty instances: \" + str(session.dirty))\n",
    "print(\"Pending instances: \" + str(session.new))"
   ]
  },
  {
   "cell_type": "code",
   "execution_count": null,
   "metadata": {},
   "outputs": [],
   "source": [
    "ed_user.name = 'Edwardo'\n",
    "fake_user = User(name='fakeuser', fullname='Invalid', nickname='12345')\n",
    "session.add(fake_user)\n",
    "session.query(User).filter(User.name.in_(['Edwardo', 'fakeuser'])).all()"
   ]
  },
  {
   "cell_type": "code",
   "execution_count": null,
   "metadata": {},
   "outputs": [],
   "source": [
    "session.rollback()\n",
    "print(\">>> eddie's name: \" + ed_user.name)\n",
    "session.query(User).filter(User.name.in_(['ed', 'fakeuser'])).all()"
   ]
  },
  {
   "cell_type": "markdown",
   "metadata": {},
   "source": [
    "### Selezionare dati"
   ]
  },
  {
   "cell_type": "code",
   "execution_count": null,
   "metadata": {},
   "outputs": [],
   "source": [
    "for instance in session.query(User).order_by(User.id):\n",
    "    print(instance.name, instance.fullname)"
   ]
  },
  {
   "cell_type": "code",
   "execution_count": null,
   "metadata": {},
   "outputs": [],
   "source": [
    "for name, fullname in session.query(User.name, User.fullname):\n",
    "    print(name, fullname)"
   ]
  },
  {
   "cell_type": "code",
   "execution_count": null,
   "metadata": {},
   "outputs": [],
   "source": [
    "for u in session.query(User).order_by(User.id)[1:3]:\n",
    "    print(u)"
   ]
  },
  {
   "cell_type": "code",
   "execution_count": null,
   "metadata": {},
   "outputs": [],
   "source": [
    "for u in session.query(User).filter_by(fullname='Ed Jones'):\n",
    "    print(u.name)"
   ]
  },
  {
   "cell_type": "code",
   "execution_count": null,
   "metadata": {},
   "outputs": [],
   "source": [
    "for u in session.query(User).filter(User.fullname=='Ed Jones'):\n",
    "    print(u.name)"
   ]
  },
  {
   "cell_type": "code",
   "execution_count": null,
   "metadata": {},
   "outputs": [],
   "source": [
    "for u in session.query(User).filter(User.name.like('%ed')).filter(User.fullname=='Ed Jones'):\n",
    "    print(u.name)"
   ]
  },
  {
   "cell_type": "code",
   "execution_count": null,
   "metadata": {},
   "outputs": [],
   "source": [
    "query = session.query(User).filter(User.name.like('%ed')).order_by(User.id)\n",
    "query.all()"
   ]
  },
  {
   "cell_type": "code",
   "execution_count": null,
   "metadata": {},
   "outputs": [],
   "source": [
    "query.first()"
   ]
  },
  {
   "cell_type": "code",
   "execution_count": null,
   "metadata": {},
   "outputs": [],
   "source": [
    "query.one()"
   ]
  },
  {
   "cell_type": "code",
   "execution_count": null,
   "metadata": {},
   "outputs": [],
   "source": [
    "query.count()"
   ]
  },
  {
   "cell_type": "markdown",
   "metadata": {},
   "source": [
    "### Relazioni"
   ]
  },
  {
   "cell_type": "markdown",
   "metadata": {},
   "source": [
    "Modelliamo ora una relazione uno-a-molti fra utenti ed indirizzi email. Tale relazione consente di effettuare le seguenti operazioni:\n",
    "1. Dato un indirizzo email, trovare l'utente ad esso associato\n",
    "2. Dato un utente, trovare una lista dei suoi indirizzi email\n",
    "\n",
    "Questo meccanismo viene implementato tramite `relationship` come segue. Si faccia attenzione alla creazione di due attributi in questo caso, uno per ciascuna classe. Il primo attributo implementa 1, mentre il secondo attributo implementa 2."
   ]
  },
  {
   "cell_type": "code",
   "execution_count": null,
   "metadata": {},
   "outputs": [],
   "source": [
    "from sqlalchemy.orm import relationship\n",
    "\n",
    "class Address(Base):\n",
    "     __tablename__ = 'addresses'\n",
    "     id = Column(Integer, primary_key=True)\n",
    "     email_address = Column(String, nullable=False)\n",
    "     user_id = Column(Integer, ForeignKey(User.id))\n",
    "\n",
    "     user = relationship(User, back_populates=\"addresses\")    # qui viene sfruttata la foreign key\n",
    "\n",
    "     def __repr__(self):\n",
    "         return \"<Address(email_address='%s')>\" % self.email_address\n",
    "        \n",
    "User.addresses = relationship(Address, order_by=Address.id, back_populates=\"user\")"
   ]
  },
  {
   "cell_type": "code",
   "execution_count": null,
   "metadata": {},
   "outputs": [],
   "source": [
    "Base.metadata.create_all(engine)\n",
    "\n",
    "jack = User(name='jack', fullname='Jack Bean', nickname='j&b')\n",
    "jack.addresses"
   ]
  },
  {
   "cell_type": "code",
   "execution_count": null,
   "metadata": {},
   "outputs": [],
   "source": [
    "jack.addresses = [Address(email_address='jack@google.com'), Address(email_address='j25@yahoo.com')]"
   ]
  },
  {
   "cell_type": "code",
   "execution_count": null,
   "metadata": {},
   "outputs": [],
   "source": [
    "jack.addresses[0]"
   ]
  },
  {
   "cell_type": "code",
   "execution_count": null,
   "metadata": {},
   "outputs": [],
   "source": [
    "jack.addresses[0].user"
   ]
  },
  {
   "cell_type": "code",
   "execution_count": null,
   "metadata": {},
   "outputs": [],
   "source": [
    "session.add(jack)\n",
    "session.commit()"
   ]
  },
  {
   "cell_type": "code",
   "execution_count": null,
   "metadata": {},
   "outputs": [],
   "source": [
    "jack = session.query(User).filter_by(name='jack').one()\n",
    "print(jack)     # nota: nessuna istruzione SQL viene eseguita per la tabella addresses"
   ]
  },
  {
   "cell_type": "code",
   "execution_count": null,
   "metadata": {},
   "outputs": [],
   "source": [
    "jack.addresses   # solo a questo punto viene eseguito SQL per la tabella addresses"
   ]
  },
  {
   "cell_type": "markdown",
   "metadata": {},
   "source": [
    "### Giunzioni"
   ]
  },
  {
   "cell_type": "code",
   "execution_count": null,
   "metadata": {},
   "outputs": [],
   "source": [
    "for u, a in session.query(User, Address):\n",
    "    print(\"({}, {})\".format(u,a))"
   ]
  },
  {
   "cell_type": "code",
   "execution_count": null,
   "metadata": {},
   "outputs": [],
   "source": [
    "for u, a in session.query(User, Address).filter(User.id == Address.user_id):\n",
    "    print(\"({}, {})\".format(u,a))"
   ]
  },
  {
   "cell_type": "code",
   "execution_count": null,
   "metadata": {},
   "outputs": [],
   "source": [
    "session.query(User).join(Address).count()"
   ]
  },
  {
   "cell_type": "code",
   "execution_count": null,
   "metadata": {},
   "outputs": [],
   "source": [
    "# https://docs.sqlalchemy.org/en/13/faq/sessions.html#faq-query-deduplicating\n",
    "session.query(User).join(Address).all()"
   ]
  },
  {
   "cell_type": "code",
   "execution_count": null,
   "metadata": {},
   "outputs": [],
   "source": [
    "session.query(User.name, User.fullname, User.nickname).join(Address).all() "
   ]
  },
  {
   "cell_type": "code",
   "execution_count": null,
   "metadata": {},
   "outputs": [],
   "source": [
    "session.query(User, Address.email_address).join(Address).all()"
   ]
  },
  {
   "cell_type": "code",
   "execution_count": null,
   "metadata": {},
   "outputs": [],
   "source": [
    "session.query(User, Address.email_address).outerjoin(User.addresses).all()"
   ]
  },
  {
   "cell_type": "markdown",
   "metadata": {},
   "source": [
    "### Cancellazioni"
   ]
  },
  {
   "cell_type": "code",
   "execution_count": null,
   "metadata": {},
   "outputs": [],
   "source": [
    "session.delete(jack)\n",
    "print(\"Deleted instances: \" + str(session.deleted))\n",
    "print(session.query(User).filter(User.name == 'jack').count())\n",
    "print(\"Deleted instances: \" + str(session.deleted))"
   ]
  },
  {
   "cell_type": "code",
   "execution_count": null,
   "metadata": {},
   "outputs": [],
   "source": [
    "session.query(Address).all()    # nessuna forma di cascading!"
   ]
  },
  {
   "cell_type": "code",
   "execution_count": null,
   "metadata": {},
   "outputs": [],
   "source": [
    "session.rollback()\n",
    "\n",
    "Base = declarative_base()\n",
    "\n",
    "class User(Base):\n",
    "     __tablename__ = 'users'                   # obbligatorio\n",
    "\n",
    "     id = Column(Integer, primary_key=True)    # almeno un attributo deve fare parte della primary key\n",
    "     name = Column(String)\n",
    "     fullname = Column(String)\n",
    "     nickname = Column(String)\n",
    "     \n",
    "     # configuriamo la politica di cascading\n",
    "     addresses = relationship(\"Address\", back_populates='user', cascade=\"all, delete, delete-orphan\")\n",
    "\n",
    "     def __repr__(self):\n",
    "        return \"<User(name='%s', fullname='%s', nickname='%s')>\" % (self.name, self.fullname, self.nickname)\n",
    "    \n",
    "class Address(Base):\n",
    "     __tablename__ = 'addresses'\n",
    "     id = Column(Integer, primary_key=True)\n",
    "     email_address = Column(String, nullable=False)\n",
    "     user_id = Column(Integer, ForeignKey(User.id))\n",
    "\n",
    "     user = relationship(User, back_populates=\"addresses\")\n",
    "\n",
    "     def __repr__(self):\n",
    "         return \"<Address(email_address='%s')>\" % self.email_address"
   ]
  },
  {
   "cell_type": "code",
   "execution_count": null,
   "metadata": {},
   "outputs": [],
   "source": [
    "jack = session.query(User).filter(User.name == 'jack').first()\n",
    "\n",
    "for a in jack.addresses:\n",
    "    print(a)"
   ]
  },
  {
   "cell_type": "code",
   "execution_count": null,
   "metadata": {},
   "outputs": [],
   "source": [
    "del jack.addresses[1]\n",
    "session.query(Address).filter(Address.email_address.in_(['jack@google.com', 'j25@yahoo.com'])).count()"
   ]
  },
  {
   "cell_type": "code",
   "execution_count": null,
   "metadata": {},
   "outputs": [],
   "source": [
    "session.delete(jack)\n",
    "print(session.query(User).filter(User.name == 'jack').count())\n",
    "print(session.query(Address).filter(Address.email_address.in_(['jack@google.com', 'j25@yahoo.com'])).count())"
   ]
  },
  {
   "cell_type": "markdown",
   "metadata": {},
   "source": [
    "### Relazioni molti-a-molti"
   ]
  },
  {
   "cell_type": "markdown",
   "metadata": {},
   "source": [
    "Modelliamo infine una relazione molti-a-molti fra blog post e keywords al loro interno. Ciò richiede la creazione di una **tabella di associazione**, che sporca l'eleganza della rappresentazione ORM vista fino ad ora. Tale tabella deve avere esattamente due colonne, che operano da chiavi esterne verso le due relazioni da associare.\n",
    "\n",
    "Tramite la tabella di associazione è possibile effettuare le seguenti operazioni:\n",
    "1. Dato un blog post, trovare la lista delle sue keywords\n",
    "2. Data una keyword, trovare la lista dei blog post in cui occorre\n",
    "\n",
    "Sebbene siamo costretti ad esporre tale dettaglio implementativo, l'interfaccia di accesso alle informazioni desiderate tramite l'ORM rimane comunque estremamente semplice. E' possibile estendere tale pattern a strutture con più di due colonne usando **oggetti di associazione**: per i dettagli potete consultare la documentazione ufficiale [qui](https://docs.sqlalchemy.org/en/13/orm/basic_relationships.html#relationship-patterns)."
   ]
  },
  {
   "cell_type": "code",
   "execution_count": null,
   "metadata": {},
   "outputs": [],
   "source": [
    "from sqlalchemy import Table\n",
    "\n",
    "post_keywords = Table('post_keywords', Base.metadata,\n",
    "                                       Column('post_id', ForeignKey('posts.id'), primary_key=True),\n",
    "                                       Column('keyword_id', ForeignKey('keywords.id'), primary_key=True))"
   ]
  },
  {
   "cell_type": "code",
   "execution_count": null,
   "metadata": {},
   "outputs": [],
   "source": [
    "class BlogPost(Base):\n",
    "    __tablename__ = 'posts'\n",
    "\n",
    "    id = Column(Integer, primary_key=True)\n",
    "    user_id = Column(Integer, ForeignKey('users.id'))\n",
    "    headline = Column(String(255), nullable=False)\n",
    "    body = Column(Text)\n",
    "\n",
    "    # relazione molti-a-molti\n",
    "    keywords = relationship('Keyword', secondary=post_keywords, back_populates='posts')\n",
    "\n",
    "    def __repr__(self):\n",
    "        return \"BlogPost(%r, %r, %r)\" % (self.headline, self.body, self.author)\n",
    "    \n",
    "class Keyword(Base):\n",
    "    __tablename__ = 'keywords'\n",
    "\n",
    "    id = Column(Integer, primary_key=True)\n",
    "    kw = Column(String(50), nullable=False, unique=True)\n",
    "    \n",
    "    # relazione molti-a-molti\n",
    "    posts = relationship('BlogPost', secondary=post_keywords, back_populates='keywords')\n",
    "    \n",
    "    # costruttore esplicito (opzionale)\n",
    "    def __init__(self, kw):\n",
    "        self.kw = kw"
   ]
  },
  {
   "cell_type": "markdown",
   "metadata": {},
   "source": [
    "Aggiungiamo poi una relazione uno-a-molti fra utenti e blog post, riutilizzando le tecniche già viste. Si noti che avevamo già introdotto una chiave esterna su `BlogPost` per questo compito."
   ]
  },
  {
   "cell_type": "code",
   "execution_count": null,
   "metadata": {},
   "outputs": [],
   "source": [
    "BlogPost.author = relationship(User, back_populates=\"posts\")\n",
    "User.posts = relationship(BlogPost, back_populates=\"author\")"
   ]
  },
  {
   "cell_type": "code",
   "execution_count": null,
   "metadata": {},
   "outputs": [],
   "source": [
    "Base.metadata.create_all(engine)"
   ]
  },
  {
   "cell_type": "code",
   "execution_count": null,
   "metadata": {},
   "outputs": [],
   "source": [
    "wendy = session.query(User).filter_by(name='wendy').one()\n",
    "post = BlogPost(headline=\"Wendy's Blog Post\", body=\"This is a test\", author=wendy)\n",
    "session.add(post)"
   ]
  },
  {
   "cell_type": "code",
   "execution_count": null,
   "metadata": {},
   "outputs": [],
   "source": [
    "post.keywords = [Keyword('wendy'), Keyword('firstpost')]"
   ]
  },
  {
   "cell_type": "code",
   "execution_count": null,
   "metadata": {},
   "outputs": [],
   "source": [
    "session.query(BlogPost).filter(BlogPost.keywords.any(kw='firstpost')).all()"
   ]
  },
  {
   "cell_type": "code",
   "execution_count": null,
   "metadata": {},
   "outputs": [],
   "source": [
    "session.query(BlogPost).filter(BlogPost.author == wendy).all()"
   ]
  },
  {
   "cell_type": "code",
   "execution_count": null,
   "metadata": {},
   "outputs": [],
   "source": [
    "wendy.posts"
   ]
  },
  {
   "cell_type": "markdown",
   "metadata": {},
   "source": [
    "## Esercizio"
   ]
  },
  {
   "cell_type": "markdown",
   "metadata": {},
   "source": [
    "Creare tramite SQLAlchemy ORM le seguenti tabelle:\n",
    "* Product(maker, model*, type)\n",
    "* PC(<u>model*</u>, speed, ram, hd, price)\n",
    "* Laptop(<u>model*</u>, speed, ram, hd, screen, price)\n",
    "* Printer(<u>model*</u>, color, type, price)\n",
    "\n",
    "Definite opportune chiavi primarie ed esterne, scegliendo i tipi di dato appropriati per i vari attributi. Una volta fatto ciò, popolate le tabelle con alcuni dati artificiali ed effettuate tramite l'ORM di SQLAlchemy le seguenti query:\n",
    "1. Trovare il modello, la velocità e la dimensione dell'hard disk di tutti i PC che costano meno di $1000. \n",
    "2. Trovare tutti i produttori di stampanti.\n",
    "3. Trovare il produttore e la velocità dei laptop con un hard disk da almeno 300 GB.\n",
    "4. Trovare il modello ed il prezzo di tutti i PC ed i laptop realizzati dalla Lenovo.\n",
    "5. Trovare le dimensioni degli hard disk che occorrono in almeno due PC.\n",
    "6. Trovare tutte le aziende che producono laptop, ma non PC.\n",
    "7. Trovare i produttori di PC con una velocità minima di 2.0 GHz.\n",
    "8. Trovare tutte le aziende che producono sia PC che laptop.\n",
    "\n",
    "Procedete immaginando la query SQL e traducendola nell'ORM di SQLAlchemy. Consultate la documentazione dove necessario."
   ]
  },
  {
   "cell_type": "code",
   "execution_count": null,
   "metadata": {},
   "outputs": [],
   "source": []
  }
 ],
 "metadata": {
  "kernelspec": {
   "display_name": "Python 3.9.7 64-bit",
   "language": "python",
   "name": "python3"
  },
  "language_info": {
   "codemirror_mode": {
    "name": "ipython",
    "version": 3
   },
   "file_extension": ".py",
   "mimetype": "text/x-python",
   "name": "python",
   "nbconvert_exporter": "python",
   "pygments_lexer": "ipython3",
   "version": "3.10.4"
  },
  "vscode": {
   "interpreter": {
    "hash": "916dbcbb3f70747c44a77c7bcd40155683ae19c65e1c03b4aa3499c5328201f1"
   }
  }
 },
 "nbformat": 4,
 "nbformat_minor": 4
}
